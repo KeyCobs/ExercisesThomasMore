{
 "cells": [
  {
   "cell_type": "markdown",
   "metadata": {},
   "source": [
    "# Chapter 5: k Nearest Neighbours"
   ]
  },
  {
   "cell_type": "code",
   "execution_count": 49,
   "metadata": {},
   "outputs": [],
   "source": [
    "%matplotlib inline\n",
    "import numpy as np\n",
    "import matplotlib.pyplot as plt\n",
    "import seaborn as sns; sns.set()\n",
    "from sklearn.datasets import make_blobs\n",
    "from sklearn.neighbors import KNeighborsClassifier\n",
    "from sklearn import metrics\n",
    "from sklearn import datasets\n",
    "from sklearn.model_selection import train_test_split\n",
    "from sklearn.ensemble import BaggingClassifier\n",
    "from sklearn.metrics import classification_report\n",
    "from sklearn.linear_model import LogisticRegression\n",
    "from sklearn.tree import DecisionTreeClassifier"
   ]
  },
  {
   "cell_type": "markdown",
   "metadata": {},
   "source": [
    "## 5.1 Introduction & Motivation"
   ]
  },
  {
   "cell_type": "markdown",
   "metadata": {},
   "source": [
    "As last classical classifier, we'll check ot the k-NN (Nearest Neighbors) algorithm. This is based on the very simple and logical idea that observations of the same class must resemble each other. In our digit examples this definitely makes sense, but what does this concetely mean and how can we tell a computer when things resemble each other?\n",
    "\n",
    "This and much more is what we'll learn in this chapter! Excited yet?"
   ]
  },
  {
   "cell_type": "markdown",
   "metadata": {},
   "source": [
    "## 5.2 Problem Setting"
   ]
  },
  {
   "cell_type": "markdown",
   "metadata": {},
   "source": [
    "Once again, no surprises should be found in the following setup:"
   ]
  },
  {
   "cell_type": "code",
   "execution_count": 50,
   "metadata": {},
   "outputs": [
    {
     "name": "stdout",
     "output_type": "stream",
     "text": [
      "Image Data Shape (1797, 64)\n",
      "Label Data Shape (1797,)\n"
     ]
    },
    {
     "data": {
      "image/png": "[encoded data removed]",
      "text/plain": [
       "<Figure size 1440x288 with 5 Axes>"
      ]
     },
     "metadata": {},
     "output_type": "display_data"
    }
   ],
   "source": [
    "digits = datasets.load_digits()\n",
    "dir(digits)\n",
    "# data\n",
    "# Print to show there are 1797 images (8 by 8 images for a dimensionality of 64)\n",
    "print(\"Image Data Shape\" , digits.data.shape)\n",
    "# Print to show there are 1797 labels (integers from 0–9)\n",
    "print(\"Label Data Shape\", digits.target.shape)\n",
    "plt.figure(figsize=(20,4))\n",
    "for index, (image, label) in enumerate(zip(digits.data[0:5], digits.target[0:5])):\n",
    " plt.subplot(1, 5, index + 1)\n",
    " plt.imshow(np.reshape(image, (8,8)), cmap=plt.cm.gray)\n",
    " plt.title('Training: %i\\n' % label, fontsize = 20)\n",
    "x_train, x_test, y_train, y_test = train_test_split(digits.data, digits.target, test_size=0.25, random_state=0)"
   ]
  },
  {
   "cell_type": "markdown",
   "metadata": {},
   "source": [
    "## 5.3 Model"
   ]
  },
  {
   "cell_type": "markdown",
   "metadata": {},
   "source": [
    "### 5.3.1 Model"
   ]
  },
  {
   "cell_type": "markdown",
   "metadata": {},
   "source": [
    "In our digit database the indepent variables are difficult to illustrate, so let's look at a dataset like we did in the previous chapter:"
   ]
  },
  {
   "cell_type": "markdown",
   "metadata": {},
   "source": [
    "![alt text](https://depiesml.files.wordpress.com/2015/08/knn_plot.png?w=600&h=586)"
   ]
  },
  {
   "cell_type": "markdown",
   "metadata": {},
   "source": [
    "If we want a model to classify this type of data, we'll make use of one very important property of classes of data: they flock together in the right dimensions. That is, in these two variables (F1 and F2), we can clearly see that all the points of the same class are bunled together. In average, we can say that if we take a random blue point, we'll easier find another blue point nearby rather than say a green or red one.\n",
    "\n",
    "It is exactly this what kNN does: it takes a point which we want to predict. For example, the grey point:"
   ]
  },
  {
   "cell_type": "markdown",
   "metadata": {},
   "source": [
    "![alt text](https://depiesml.files.wordpress.com/2015/08/knn-k5-initial1.png?w=600&h=586)"
   ]
  },
  {
   "cell_type": "markdown",
   "metadata": {},
   "source": [
    "The kNN algorithm then calculates the distance of all points starting from that point, and selects the $k$ nearest datapoints. "
   ]
  },
  {
   "cell_type": "markdown",
   "metadata": {},
   "source": [
    "![](https://depiesml.files.wordpress.com/2015/08/knn-k5-neighbor.png)"
   ]
  },
  {
   "cell_type": "markdown",
   "metadata": {},
   "source": [
    "These points then \"vote\" on which class we would like to predict. Different voting schemes are possible; but most straightforward will be that: the class which is represented the most will be the prediction."
   ]
  },
  {
   "cell_type": "markdown",
   "metadata": {},
   "source": [
    "### 5.3.2 Model Estimation"
   ]
  },
  {
   "cell_type": "markdown",
   "metadata": {},
   "source": [
    "That all sounds easy enough, but let's put that into practice.\n",
    "We'll make a 9-Nearest-Neighbours classifier and fit it onto our data:"
   ]
  },
  {
   "cell_type": "code",
   "execution_count": 51,
   "metadata": {},
   "outputs": [
    {
     "data": {
      "text/plain": [
       "KNeighborsClassifier(n_neighbors=9)"
      ]
     },
     "execution_count": 51,
     "metadata": {},
     "output_type": "execute_result"
    }
   ],
   "source": [
    "neigh = KNeighborsClassifier(n_neighbors=9)# 9\n",
    "neigh.fit(x_train, y_train)"
   ]
  },
  {
   "cell_type": "markdown",
   "metadata": {},
   "source": [
    "Next we can either make a prediction for a certain observation, multiple observations, or all observations of our test set:"
   ]
  },
  {
   "cell_type": "markdown",
   "metadata": {},
   "source": [
    "### Nearest Neighbor"
   ]
  },
  {
   "cell_type": "code",
   "execution_count": 59,
   "metadata": {},
   "outputs": [
    {
     "name": "stdout",
     "output_type": "stream",
     "text": [
      "0.9777777777777777\n"
     ]
    }
   ],
   "source": [
    "# Returns a NumPy Array\n",
    "# Predict for One Observation (image)\n",
    "neigh.predict(x_test[0].reshape(1,-1))\n",
    "neigh.predict(x_test[0:10])\n",
    "predictions = neigh.predict(x_test)\n",
    "score = neigh.score(x_test,y_test)\n",
    "\n",
    "print(score)"
   ]
  },
  {
   "cell_type": "markdown",
   "metadata": {},
   "source": [
    "### Tree Prediction"
   ]
  },
  {
   "cell_type": "code",
   "execution_count": 65,
   "metadata": {},
   "outputs": [
    {
     "name": "stdout",
     "output_type": "stream",
     "text": [
      "0.8577777777777778\n"
     ]
    }
   ],
   "source": [
    "tree = DecisionTreeClassifier()\n",
    "tree_fit = tree.fit(x_train, y_train)\n",
    "predictionTree = tree.predict(x_test)\n",
    "score = tree.score(x_test,y_test)\n",
    "\n",
    "print(score)"
   ]
  },
  {
   "cell_type": "markdown",
   "metadata": {},
   "source": [
    "### Logistic Regression"
   ]
  },
  {
   "cell_type": "code",
   "execution_count": 58,
   "metadata": {},
   "outputs": [
    {
     "name": "stdout",
     "output_type": "stream",
     "text": [
      "0.9533333333333334\n"
     ]
    }
   ],
   "source": [
    "logisticRegr = LogisticRegression(multi_class='auto', max_iter=100000)\n",
    "logisticRegr.fit(x_train, y_train)\n",
    "predictionL = logisticRegr.predict(x_test)\n",
    "score = logisticRegr.score(x_test, y_test)\n",
    "\n",
    "print(score)"
   ]
  },
  {
   "cell_type": "markdown",
   "metadata": {},
   "source": [
    "## 5.4 Model Evaluation"
   ]
  },
  {
   "cell_type": "markdown",
   "metadata": {},
   "source": [
    "### Accuracy"
   ]
  },
  {
   "cell_type": "code",
   "execution_count": 44,
   "metadata": {},
   "outputs": [
    {
     "name": "stdout",
     "output_type": "stream",
     "text": [
      "0.9777777777777777\n"
     ]
    }
   ],
   "source": [
    "# accuracy\n",
    "# Use score method to get accuracy of model\n",
    "score = neigh.score(x_test, y_test)\n",
    "print(score)"
   ]
  },
  {
   "cell_type": "markdown",
   "metadata": {},
   "source": [
    "##### Question 1: Tweak the n_neighbors parameter to check which model gives the highest accuracy. From when does tweaking the parameter doesn't change much anymore? Interpret! Explain what is happening in the model, and what the influence is on the accuracy. Is this logical?\n"
   ]
  },
  {
   "cell_type": "markdown",
   "metadata": {},
   "source": [
    "##### So the lower you N is the higher your accuracy. This seems logical cause of the amount of neighbors it needs to calculate before it is able to calculate the n. If you have calculate the 1st closed you only need to calculate that one. but if you have 100st nearset you have maybe value from a different class."
   ]
  },
  {
   "cell_type": "markdown",
   "metadata": {},
   "source": [
    "### Precision"
   ]
  },
  {
   "cell_type": "code",
   "execution_count": 62,
   "metadata": {},
   "outputs": [
    {
     "name": "stdout",
     "output_type": "stream",
     "text": [
      "Nearest\n",
      "              precision    recall  f1-score   support\n",
      "\n",
      "           0       1.00      1.00      1.00        37\n",
      "           1       0.93      1.00      0.97        43\n",
      "           2       1.00      0.98      0.99        44\n",
      "           3       0.96      1.00      0.98        45\n",
      "           4       1.00      0.97      0.99        38\n",
      "           5       0.98      0.98      0.98        48\n",
      "           6       1.00      1.00      1.00        52\n",
      "           7       0.94      1.00      0.97        48\n",
      "           8       1.00      0.88      0.93        48\n",
      "           9       0.98      0.98      0.98        47\n",
      "\n",
      "    accuracy                           0.98       450\n",
      "   macro avg       0.98      0.98      0.98       450\n",
      "weighted avg       0.98      0.98      0.98       450\n",
      "\n",
      "Logistic\n",
      "              precision    recall  f1-score   support\n",
      "\n",
      "           0       1.00      1.00      1.00        37\n",
      "           1       0.91      0.93      0.92        43\n",
      "           2       0.98      0.93      0.95        44\n",
      "           3       0.92      0.98      0.95        45\n",
      "           4       0.97      0.97      0.97        38\n",
      "           5       0.98      0.96      0.97        48\n",
      "           6       0.98      0.98      0.98        52\n",
      "           7       0.98      0.96      0.97        48\n",
      "           8       0.90      0.90      0.90        48\n",
      "           9       0.94      0.94      0.94        47\n",
      "\n",
      "    accuracy                           0.95       450\n",
      "   macro avg       0.95      0.95      0.95       450\n",
      "weighted avg       0.95      0.95      0.95       450\n",
      "\n",
      "Tree\n",
      "              precision    recall  f1-score   support\n",
      "\n",
      "           0       0.89      0.89      0.89        37\n",
      "           1       0.77      0.86      0.81        43\n",
      "           2       0.84      0.84      0.84        44\n",
      "           3       0.70      0.78      0.74        45\n",
      "           4       0.86      0.84      0.85        38\n",
      "           5       0.85      0.85      0.85        48\n",
      "           6       0.98      0.94      0.96        52\n",
      "           7       0.95      0.85      0.90        48\n",
      "           8       0.88      0.75      0.81        48\n",
      "           9       0.73      0.81      0.77        47\n",
      "\n",
      "    accuracy                           0.84       450\n",
      "   macro avg       0.85      0.84      0.84       450\n",
      "weighted avg       0.85      0.84      0.84       450\n",
      "\n"
     ]
    }
   ],
   "source": [
    "print(\"Nearest\")\n",
    "print(classification_report(y_test, predictions))\n",
    "print(\"Logistic\")\n",
    "print(classification_report(y_test, predictionL))\n",
    "print(\"Tree\")\n",
    "print(classification_report(y_test, predictionTree))"
   ]
  },
  {
   "cell_type": "code",
   "execution_count": 19,
   "metadata": {},
   "outputs": [
    {
     "name": "stdout",
     "output_type": "stream",
     "text": [
      "              precision    recall  f1-score   support\n",
      "\n",
      "           0       1.00      1.00      1.00        37\n",
      "           1       0.93      1.00      0.97        43\n",
      "           2       1.00      0.98      0.99        44\n",
      "           3       0.96      1.00      0.98        45\n",
      "           4       1.00      0.97      0.99        38\n",
      "           5       0.98      0.98      0.98        48\n",
      "           6       1.00      1.00      1.00        52\n",
      "           7       0.94      1.00      0.97        48\n",
      "           8       1.00      0.88      0.93        48\n",
      "           9       0.98      0.98      0.98        47\n",
      "\n",
      "    accuracy                           0.98       450\n",
      "   macro avg       0.98      0.98      0.98       450\n",
      "weighted avg       0.98      0.98      0.98       450\n",
      "\n"
     ]
    }
   ],
   "source": []
  },
  {
   "cell_type": "markdown",
   "metadata": {},
   "source": [
    "##### Question 2: Tweak the n_neighbors parameter to check which model gives the highest precision. From when does tweaking the parameter doesn't change much anymore? Interpret! Explain what is happening in the model, and what the influence is on the precision. Is this logical?"
   ]
  },
  {
   "cell_type": "markdown",
   "metadata": {},
   "source": [
    "##### around 6 The Precision is aroun 0.97. And I keep getting this number till 25. So I would say that it doesn't change much after 11 Somewhere in the middle. I Guess that it just tries to take  the average of a value. "
   ]
  },
  {
   "cell_type": "markdown",
   "metadata": {},
   "source": [
    "### Confusion Matrix"
   ]
  },
  {
   "cell_type": "markdown",
   "metadata": {},
   "source": [
    "You should by now be familiar with the confusion Matrix. \n",
    "\n",
    "##### Question 3: Make the confusion matrix and interpret it."
   ]
  },
  {
   "cell_type": "code",
   "execution_count": 63,
   "metadata": {},
   "outputs": [
    {
     "name": "stdout",
     "output_type": "stream",
     "text": [
      "Nearest\n",
      "[[37  0  0  0  0  0  0  0  0  0]\n",
      " [ 0 43  0  0  0  0  0  0  0  0]\n",
      " [ 0  0 43  0  0  0  0  1  0  0]\n",
      " [ 0  0  0 45  0  0  0  0  0  0]\n",
      " [ 0  0  0  0 37  0  0  1  0  0]\n",
      " [ 0  0  0  0  0 47  0  0  0  1]\n",
      " [ 0  0  0  0  0  0 52  0  0  0]\n",
      " [ 0  0  0  0  0  0  0 48  0  0]\n",
      " [ 0  3  0  2  0  0  0  1 42  0]\n",
      " [ 0  0  0  0  0  1  0  0  0 46]]\n",
      "Tree\n",
      "[[33  0  0  2  1  1  0  0  0  0]\n",
      " [ 0 37  2  1  1  0  1  0  1  0]\n",
      " [ 1  3 37  0  1  0  0  0  2  0]\n",
      " [ 0  2  1 35  0  0  0  1  2  4]\n",
      " [ 1  2  0  0 32  0  0  1  0  2]\n",
      " [ 1  0  0  3  0 41  0  0  0  3]\n",
      " [ 0  1  0  2  0  0 49  0  0  0]\n",
      " [ 1  0  1  0  1  1  0 41  0  3]\n",
      " [ 0  2  2  4  0  2  0  0 36  2]\n",
      " [ 0  1  1  3  1  3  0  0  0 38]]\n",
      "Linear\n",
      "[[37  0  0  0  0  0  0  0  0  0]\n",
      " [ 0 40  0  0  0  0  0  0  2  1]\n",
      " [ 0  0 41  3  0  0  0  0  0  0]\n",
      " [ 0  0  0 44  0  0  0  0  1  0]\n",
      " [ 0  0  0  0 37  0  0  1  0  0]\n",
      " [ 0  0  0  0  0 46  0  0  0  2]\n",
      " [ 0  1  0  0  0  0 51  0  0  0]\n",
      " [ 0  0  0  1  1  0  0 46  0  0]\n",
      " [ 0  3  1  0  0  0  1  0 43  0]\n",
      " [ 0  0  0  0  0  1  0  0  2 44]]\n",
      "Tree\n"
     ]
    }
   ],
   "source": [
    "print(\"Nearest\")\n",
    "cm = metrics.confusion_matrix(y_test, predictions)\n",
    "print(cm)\n",
    "print(\"Tree\")\n",
    "cmT = metrics.confusion_matrix(y_test, predictionTree)\n",
    "print(cmT)\n",
    "print(\"Linear\")\n",
    "cmL = metrics.confusion_matrix(y_test, predictionL)\n",
    "print(cmL)\n"
   ]
  },
  {
   "cell_type": "code",
   "execution_count": 46,
   "metadata": {},
   "outputs": [
    {
     "data": {
      "image/png": "[encoded data removed]",
      "text/plain": [
       "<Figure size 720x720 with 2 Axes>"
      ]
     },
     "metadata": {},
     "output_type": "display_data"
    }
   ],
   "source": [
    "plt.figure(figsize=(10,10))\n",
    "sns.heatmap(cm, annot=True, fmt=\".3f\", linewidths=.5, square = True, cmap = 'Blues_r');\n",
    "plt.ylabel('Actual label');\n",
    "plt.xlabel('Predicted label');\n",
    "all_sample_title = 'Accuracy Score: {0}'.format(score)\n",
    "plt.title(all_sample_title, size = 15);"
   ]
  },
  {
   "cell_type": "markdown",
   "metadata": {},
   "source": [
    "## 5.5 Exercises"
   ]
  },
  {
   "cell_type": "markdown",
   "metadata": {},
   "source": [
    "##### Question 1: See section 5.4\n",
    "##### So the lower you N is the higher your accuracy. This seems logical cause of the amount of neighbers it needs to calculate before it is able to calculate the n. If you have calculate the 1st closed you only need to calculate that one. but if you have 100st nearset you have first find out what the other 99 nearest are\n",
    "##### Question 2: See section 5.4\n",
    "##### around 6 The Precision is aroun 0.97. And I keep getting this number till 25. So I would say that it doesn't change much after 11 Somewhere in the middle. I Guess that it just tries to take  the average of a value. \n",
    "##### Question 3: See section 5.4\n",
    "##### Question 4: \n",
    "Compare the optimal n_neighbours model to the optimal logistic regression and decision tree. Which model do you prefer based upon the accuracy? Which model do you prefer based upon the precision? Which model overall? Or is there no unambiguous choice to be made?\n",
    "##### If I compare the 3 models (Tree,Nearest,Logistic) I can see that the average score of Nearest is the highest compared to Tree and Logisitc. Tree is arounf 87 so lower then the other 2. Where Logisitc isn't that far off as nearest neighbor (95 and 97) I would say that based on precision I chose for nearest.\n",
    "##### Question 5: \n",
    "If you had to choose, would you choose a model with higher accuracy of higher precision? Why? Do some online research on the advantages/disadvantages! What does this concretely mean for the digits dataset?\n",
    "##### I would go for higher Accuracy. we want to be as close to be as the true value. Of course we also want consistentie. But what i consistentie if you are not accurate. Of course you can say it vise versa. You can have 1 accurate value and no Consistentie so both are crucial. So What does this mean for the digits dataset. I rather have Linear ( the score that had 95) Than the nearest neighbor. Because even though nearest neighbor has a higher accuracy we don''t know when our dataset grows and our k nearest neighbor grows as well. If the Dataset is pricise. Maybe other classes have intervene with you result thus boost or hinder your results. So my pick would be the Linear regression."
   ]
  },
  {
   "cell_type": "code",
   "execution_count": null,
   "metadata": {},
   "outputs": [],
   "source": []
  }
 ],
 "metadata": {
  "kernelspec": {
   "display_name": "Python 3",
   "language": "python",
   "name": "python3"
  },
  "language_info": {
   "codemirror_mode": {
    "name": "ipython",
    "version": 3
   },
   "file_extension": ".py",
   "mimetype": "text/x-python",
   "name": "python",
   "nbconvert_exporter": "python",
   "pygments_lexer": "ipython3",
   "version": "3.7.4"
  }
 },
 "nbformat": 4,
 "nbformat_minor": 2
}
