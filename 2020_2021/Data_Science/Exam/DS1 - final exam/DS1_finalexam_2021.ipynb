{
 "cells": [
  {
   "cell_type": "markdown",
   "metadata": {},
   "source": [
    "# Exam Data Science 1 (2020 - 2021)"
   ]
  },
  {
   "cell_type": "markdown",
   "metadata": {},
   "source": [
    "## General Information"
   ]
  },
  {
   "cell_type": "markdown",
   "metadata": {},
   "source": [
    "Data source:\n",
    "https://archive.ics.uci.edu/ml/datasets/student%2Bperformance"
   ]
  },
  {
   "cell_type": "markdown",
   "metadata": {},
   "source": [
    "# ***Personal Information***\n",
    "\n",
    "First name: Kevin\n",
    "\n",
    "Last name: Jacobs\n",
    "\n",
    "Student number: 0805963"
   ]
  },
  {
   "cell_type": "markdown",
   "metadata": {},
   "source": [
    "#### ***Imports***"
   ]
  },
  {
   "cell_type": "code",
   "execution_count": 80,
   "metadata": {},
   "outputs": [],
   "source": [
    "# put all your library imports here\n",
    "%matplotlib inline\n",
    "import numpy as np\n",
    "import pandas as pd\n",
    "import matplotlib.pyplot as plt\n",
    "import seaborn as sns; sns.set()\n",
    "from random import randrange\n",
    "from sklearn import metrics\n",
    "from sklearn import datasets\n",
    "from sklearn.linear_model import LinearRegression\n",
    "from sklearn.model_selection import train_test_split\n",
    "from sklearn.metrics import mean_squared_error\n",
    "from sklearn.metrics import mean_absolute_error\n",
    "from sklearn.preprocessing import PolynomialFeatures\n",
    "from sklearn.pipeline import make_pipeline\n",
    "from sklearn.datasets import make_blobs\n",
    "from sklearn.tree import DecisionTreeClassifier\n",
    "from sklearn.ensemble import BaggingClassifier\n",
    "from sklearn.metrics import classification_report\n",
    "from sklearn.linear_model import LogisticRegression\n",
    "from sklearn.preprocessing import StandardScaler\n",
    "from sklearn.feature_selection import RFECV\n",
    "from sklearn.cluster import KMeans\n",
    "from scipy.stats import mode\n",
    "from sklearn.metrics import accuracy_score\n",
    "from sklearn.cluster import AgglomerativeClustering\n",
    "import scipy.cluster.hierarchy as shc\n",
    "import plotly.graph_objects as go\n",
    "import plotly.figure_factory as ff\n",
    "from sklearn.neighbors import KNeighborsClassifier"
   ]
  },
  {
   "cell_type": "markdown",
   "metadata": {},
   "source": [
    "#### ***Data Assignment***\n",
    "\n",
    "You need only use a selection of the original dataset. The variables have been grouped into several groups. You will use the *Basic* Group along with 2 other groups to predict G3.\n",
    "Each group has been given a number.\n",
    "\n",
    "The following script will assign you the numbers of the groups you will need to use in the assignment. Replace my personel number with your student number, and run the script **once**. After you have run the script, paste a screenshot below. This is of utmost importance, as the data assignment script uses random numbers."
   ]
  },
  {
   "cell_type": "markdown",
   "metadata": {},
   "source": [
    "Variable to predict:\n",
    "+ G3\n",
    "\n",
    "Basic:\n",
    "+ school\n",
    "+ sex\n",
    "+ age\n",
    "+ address\n",
    "+ famsize\n",
    "\n",
    "[1] Parents:\n",
    "+ Medu\n",
    "+ Fedu\n",
    "+ Mjob\n",
    "+ Fjob\n",
    "\n",
    "[2] Surrounding: \n",
    "+ reason\n",
    "+ nursery\n",
    "+ internet\n",
    "\n",
    "[3] Extra:\n",
    "+ freetime\n",
    "+ guardian\n",
    "+ traveltime\n",
    "+ studytime\n",
    "+ failures\n",
    "\n",
    "[4] Support:\n",
    "+ schoolsup\n",
    "+ famsup\n",
    "+ paid\n",
    "\n",
    "[5] Extra curricular:\n",
    "+ activities\n",
    "+ higher\n",
    "+ romantic\n",
    "+ famrel\n",
    "\n",
    "[6] Relaxation:\n",
    "+ goout\n",
    "+ Dalc\n",
    "+ Walc\n",
    "\n",
    "[7] Health:\n",
    "+ health\n",
    "+ absences\n"
   ]
  },
  {
   "cell_type": "code",
   "execution_count": 6,
   "metadata": {},
   "outputs": [
    {
     "name": "stdout",
     "output_type": "stream",
     "text": [
      "Your groups are: 4 and 2\n"
     ]
    }
   ],
   "source": [
    "studentnumber = \"r0805963\"\n",
    "\n",
    "def stdnr_splitter(studentnumber):\n",
    "\t# decompose student number into interesting \n",
    "\tcons_array = np.array(list(studentnumber))[2:].astype(int)\n",
    "\tindices = np.unique(cons_array)\n",
    "\tsum = round(np.sum(cons_array)/6)+1\n",
    "\trandom = randrange(7)+1\n",
    "\t# interaction terms\n",
    "\tvar1_index = int(round((sum*random)/7)+1)\n",
    "\t# quadratic terms\n",
    "\tvar2a_index = int(round((sum/random)))\n",
    "\tvar2b_index = int(round((randrange(10)+1)%var2a_index))\n",
    "\tprint(f\"Your groups are: {var1_index} and {var2a_index}\")\n",
    "\n",
    "stdnr_splitter(studentnumber)"
   ]
  },
  {
   "cell_type": "markdown",
   "metadata": {},
   "source": [
    "\n",
    "![data assignment screenshot](screenshot.png \"Data Assignment\")\n"
   ]
  },
  {
   "cell_type": "markdown",
   "metadata": {},
   "source": [
    "## Assignment"
   ]
  },
  {
   "cell_type": "markdown",
   "metadata": {},
   "source": [
    "### Question 1: General"
   ]
  },
  {
   "cell_type": "markdown",
   "metadata": {},
   "source": [
    "Welcome to the Data Science Fundamentals exam!"
   ]
  },
  {
   "cell_type": "markdown",
   "metadata": {},
   "source": [
    "#### Question 1a\n",
    "\n",
    "In this take-home exam, you will try and apply everything you have learned this semester to 1 dataset. The dataset you will be working with, is . As very first assignment, you load in the dataset here, and divide it over 2 dataframes: *X_df* and *Y_df*. The former should contain all the independent variables present in the dataset, while the latter contains all the dependent variables. \n",
    "Do so here:\n"
   ]
  },
  {
   "cell_type": "code",
   "execution_count": 4,
   "metadata": {},
   "outputs": [
    {
     "name": "stdout",
     "output_type": "stream",
     "text": [
      "     reason  nursery  internet\n",
      "0         2        1         1\n",
      "1         3        0         1\n",
      "2         3        1         0\n",
      "3         4        1         1\n",
      "4         3        1         1\n",
      "..      ...      ...       ...\n",
      "377       4        1         1\n",
      "378       5        1         1\n",
      "379       2        1         1\n",
      "380       2        1         1\n",
      "381       5        1         0\n",
      "\n",
      "[382 rows x 3 columns]\n",
      "     schoolsup.y  famsup.y  paid.y\n",
      "0              1         1       1\n",
      "1              1         1       0\n",
      "2              1         1       0\n",
      "3              1         1       0\n",
      "4              0         1       1\n",
      "..           ...       ...     ...\n",
      "377            0         0       0\n",
      "378            0         0       0\n",
      "379            0         1       0\n",
      "380            0         0       0\n",
      "381            0         0       0\n",
      "\n",
      "[382 rows x 3 columns]\n"
     ]
    }
   ],
   "source": [
    "# import data and divide over dataframes\n",
    "dfX = pd.read_csv('student.csv', usecols=['internet', 'reason', 'nursery'])\n",
    "dfY = pd.read_csv('student.csv', usecols=['schoolsup.y', 'famsup.y', 'paid.y'])\n",
    "dfYInt = dfY\n",
    "dfYInt = dfYInt.replace('yes',1,regex=True)\n",
    "dfYInt = dfYInt.replace('no',0,regex=True)\n",
    "dfXInt = dfX\n",
    "dfXInt = dfXInt.replace('yes',1,regex=True)\n",
    "dfXInt = dfXInt.replace('no',0,regex=True)\n",
    "dfXInt = dfXInt.replace('home',2,regex=True)\n",
    "dfXInt = dfXInt.replace('reputation',3,regex=True)\n",
    "dfXInt = dfXInt.replace('course',4,regex=True)\n",
    "dfXInt = dfXInt.replace('other',5,regex=True)\n",
    "\n",
    "\n",
    "\n",
    "print(dfXInt)\n",
    "print(dfYInt)\n",
    "\n",
    "# 2 dataframes"
   ]
  },
  {
   "cell_type": "markdown",
   "metadata": {},
   "source": [
    "explain what you have done and why here\n",
    "I created 2 different datasets and printed them out. I also Converted them to numbers so that I can do the quadratic term and the interaction term"
   ]
  },
  {
   "cell_type": "markdown",
   "metadata": {},
   "source": [
    "#### Question 1b\n",
    "\n",
    "**You are not permitted to use all variables in your analysis**.\n",
    "Using the *Data Assignment* script above, you will receive the variables you are allowed to use.\n",
    "Before you go any further, you should take a look at the variables that have been assigned to you. For these variables, you will add 1 quadratic term and 1 interaction term.\n",
    "\n",
    "A Quadratic Term is a transformation of an existing variable. Let's say I have variable $x$ in my dataset, the quadratic term would then be $x^2$. Make the quadratic term that is asked from you by the *Data Assignment* script, and add it to the dataframe containing your independent variables. Note: when you add a quadratic term of a variable which is not yet in your dataframe, you also need to add the underlying variable to your dataframe! Otherwise, your analyses will not make any sense.\n",
    "\n",
    "An Interaction Term is the multiplication of two existing terms. Let's say I have variables $x$ and $y$ in my dataset, the interaction term would then be $x*y$. Note: the same remark as with the quadratic term holds. The original terms also need to be present in your dataframe. If they are not in there yet, please add them!\n",
    "\n",
    "\n",
    "Make a new dataframe, called *X_df_complete* in which you select the relevant dependent variables and add the Quadratic and Interaction Term. Do so here:"
   ]
  },
  {
   "cell_type": "code",
   "execution_count": 5,
   "metadata": {},
   "outputs": [],
   "source": [
    "# make complete dataframe\n",
    "# SELECT VARIABLES\n",
    "# CREATE ARTIFICIAL VARIABLES\n",
    "# INTERACTION TERM -> if there is an interaction between te variables\n",
    "# NEW VAR = WACL * ABSENCES\n",
    "dfXComplete = 3\n",
    "dfXComplete\n",
    "# QUADRIC TERM -> TAKE A LOOK AT POLYNOMIAL REGRESSION\n",
    "# NEW VAR = WALC ^ 2\n",
    "yOne = dfYInt['schoolsup.y']^2\n",
    "yTwo = dfYInt['famsup.y']^2\n",
    "yThree = dfYInt['paid.y']^2\n"
   ]
  },
  {
   "cell_type": "markdown",
   "metadata": {},
   "source": [
    "#### Question 1c\n",
    "\n",
    "What does the Interaction Term and the Quadratic Term signify? Investigate, illustrate with graphs, and report below:"
   ]
  },
  {
   "cell_type": "code",
   "execution_count": 6,
   "metadata": {},
   "outputs": [],
   "source": [
    "## code exploring the interaction term"
   ]
  },
  {
   "cell_type": "markdown",
   "metadata": {},
   "source": [
    "explanation and interpretation of the interaction term goes here\n"
   ]
  },
  {
   "cell_type": "code",
   "execution_count": 7,
   "metadata": {},
   "outputs": [],
   "source": [
    "## code exploring the quadratic term"
   ]
  },
  {
   "cell_type": "markdown",
   "metadata": {},
   "source": [
    "explanation and interpretation of the quadratic term goes here\n"
   ]
  },
  {
   "cell_type": "markdown",
   "metadata": {},
   "source": [
    "#### Question 1d\n",
    "\n",
    "Form your training and test set. Explain why you do this."
   ]
  },
  {
   "cell_type": "code",
   "execution_count": 8,
   "metadata": {},
   "outputs": [],
   "source": [
    "## code making the training and test set"
   ]
  },
  {
   "cell_type": "markdown",
   "metadata": {},
   "source": [
    "explanation on training and test set goes here"
   ]
  },
  {
   "cell_type": "markdown",
   "metadata": {},
   "source": [
    "# *Intermezzo*\n",
    "\n",
    "Note the nice formatting we have used in Question 1. It is expected of you to do the same for Questions 2-5. Because I do not know exactly what you will do in each of these questions, I have not provided a blueprint of the solutions formatting."
   ]
  },
  {
   "cell_type": "markdown",
   "metadata": {},
   "source": [
    "### Question 2: Regression"
   ]
  },
  {
   "cell_type": "markdown",
   "metadata": {},
   "source": [
    "You will note that the dependent variable is continuous. Perform a regression analysis. (Also experiment with the interaction & quadratic terms, and report on what happens). Be complete!"
   ]
  },
  {
   "cell_type": "markdown",
   "metadata": {},
   "source": [
    "### Training my data"
   ]
  },
  {
   "cell_type": "code",
   "execution_count": 121,
   "metadata": {},
   "outputs": [],
   "source": [
    "x = dfXInt\n",
    "y = dfY['famsup.y']\n",
    "X_train, X_test, y_train, y_test = train_test_split(x, y, test_size=0.25, random_state=0)\n",
    "\n",
    "y1 = dfY['paid.y']\n",
    "X_train1, X_test1, y_train1, y_test1 = train_test_split(x, y1, test_size=0.25, random_state=0)\n",
    "\n",
    "y2 = dfY['schoolsup.y']\n",
    "X_train2, X_test2, y_train2, y_test2 = train_test_split(x, y2, test_size=0.25, random_state=0)\n",
    "\n"
   ]
  },
  {
   "cell_type": "markdown",
   "metadata": {},
   "source": [
    "### Linear Regression"
   ]
  },
  {
   "cell_type": "code",
   "execution_count": 126,
   "metadata": {},
   "outputs": [
    {
     "name": "stdout",
     "output_type": "stream",
     "text": [
      "Intercept (Beta 0): [0.14919012 0.60129892 0.06205032]\n",
      "Slope (Beta 1): [-0.00793605  0.04013015 -0.02950162]\n"
     ]
    },
    {
     "data": {
      "text/plain": [
       "Text(0, 0.5, 'Y')"
      ]
     },
     "execution_count": 126,
     "metadata": {},
     "output_type": "execute_result"
    },
    {
     "data": {
      "image/png": "[encoded data removed]",
      "text/plain": [
       "<Figure size 432x288 with 1 Axes>"
      ]
     },
     "metadata": {},
     "output_type": "display_data"
    }
   ],
   "source": [
    "regressor = LinearRegression()\n",
    "regressor.fit(dfXInt, dfYInt)\n",
    "print(\"Intercept (Beta 0): {}\".format(regressor.intercept_))\n",
    "print(\"Slope (Beta 1): {}\".format(regressor.coef_[0]))\n",
    "\n",
    "min_pt = dfXInt.min() * regressor.coef_[0] + regressor.intercept_\n",
    "max_pt = dfXInt.max() * regressor.coef_[0] + regressor.intercept_\n",
    "plt.plot(dfXInt, dfYInt, 'o')\n",
    "plt.plot([dfXInt.min(), dfXInt.max()], [min_pt, max_pt])\n",
    "plt.xlabel(\"X\")\n",
    "plt.ylabel(\"Y\")"
   ]
  },
  {
   "cell_type": "markdown",
   "metadata": {},
   "source": [
    "#### Paid Linear Regression"
   ]
  },
  {
   "cell_type": "code",
   "execution_count": 115,
   "metadata": {},
   "outputs": [
    {
     "name": "stdout",
     "output_type": "stream",
     "text": [
      "Intercept (Beta 0): 0.062050324781806\n",
      "Slope (Beta 1): -0.006618729403786205\n"
     ]
    },
    {
     "data": {
      "text/plain": [
       "Text(0, 0.5, 'Y')"
      ]
     },
     "execution_count": 115,
     "metadata": {},
     "output_type": "execute_result"
    },
    {
     "data": {
      "image/png": "[encoded data removed]",
      "text/plain": [
       "<Figure size 432x288 with 1 Axes>"
      ]
     },
     "metadata": {},
     "output_type": "display_data"
    }
   ],
   "source": [
    "regressor = LinearRegression()\n",
    "regressor.fit(dfXInt, dfYInt['paid.y'])\n",
    "print(\"Intercept (Beta 0): {}\".format(regressor.intercept_))\n",
    "print(\"Slope (Beta 1): {}\".format(regressor.coef_[0]))\n",
    "\n",
    "min_pt = dfXInt.min() * regressor.coef_[0] + regressor.intercept_\n",
    "max_pt = dfXInt.max() * regressor.coef_[0] + regressor.intercept_\n",
    "plt.plot(dfXInt, dfYInt['paid.y'], 'o')\n",
    "plt.plot([dfXInt.min(), dfXInt.max()], [min_pt, max_pt])\n",
    "plt.xlabel(\"X\")\n",
    "plt.ylabel(\"Y\")"
   ]
  },
  {
   "cell_type": "markdown",
   "metadata": {},
   "source": [
    "#### Famsup Linear Regression"
   ]
  },
  {
   "cell_type": "code",
   "execution_count": 125,
   "metadata": {},
   "outputs": [
    {
     "name": "stdout",
     "output_type": "stream",
     "text": [
      "Intercept (Beta 0): 0.6012989205942216\n",
      "Slope (Beta 1): -0.035611679629071795\n"
     ]
    },
    {
     "data": {
      "text/plain": [
       "Text(0, 0.5, 'Y')"
      ]
     },
     "execution_count": 125,
     "metadata": {},
     "output_type": "execute_result"
    },
    {
     "data": {
      "image/png": "[encoded data removed]",
      "text/plain": [
       "<Figure size 432x288 with 1 Axes>"
      ]
     },
     "metadata": {},
     "output_type": "display_data"
    }
   ],
   "source": [
    "regressor = LinearRegression()\n",
    "regressor.fit(dfXInt, dfYInt['famsup.y'])\n",
    "print(\"Intercept (Beta 0): {}\".format(regressor.intercept_))\n",
    "print(\"Slope (Beta 1): {}\".format(regressor.coef_[0]))\n",
    "\n",
    "min_pt = dfXInt.min() * regressor.coef_[0] + regressor.intercept_\n",
    "max_pt = dfXInt.max() * regressor.coef_[0] + regressor.intercept_\n",
    "plt.plot(dfXInt, dfYInt['famsup.y'], 'o')\n",
    "plt.plot([dfXInt.min(), dfXInt.max()], [min_pt, max_pt])\n",
    "plt.xlabel(\"X\")\n",
    "plt.ylabel(\"Y\")"
   ]
  },
  {
   "cell_type": "markdown",
   "metadata": {},
   "source": [
    "#### paid Linear Regression"
   ]
  },
  {
   "cell_type": "code",
   "execution_count": 124,
   "metadata": {},
   "outputs": [
    {
     "name": "stdout",
     "output_type": "stream",
     "text": [
      "Intercept (Beta 0): 0.062050324781806\n",
      "Slope (Beta 1): -0.006618729403786205\n"
     ]
    },
    {
     "data": {
      "text/plain": [
       "Text(0, 0.5, 'Y')"
      ]
     },
     "execution_count": 124,
     "metadata": {},
     "output_type": "execute_result"
    },
    {
     "data": {
      "image/png": "[encoded data removed]",
      "text/plain": [
       "<Figure size 432x288 with 1 Axes>"
      ]
     },
     "metadata": {},
     "output_type": "display_data"
    }
   ],
   "source": [
    "regressor = LinearRegression()\n",
    "regressor.fit(dfXInt, dfYInt['paid.y'])\n",
    "print(\"Intercept (Beta 0): {}\".format(regressor.intercept_))\n",
    "print(\"Slope (Beta 1): {}\".format(regressor.coef_[0]))\n",
    "\n",
    "min_pt = dfXInt.min() * regressor.coef_[0] + regressor.intercept_\n",
    "max_pt = dfXInt.max() * regressor.coef_[0] + regressor.intercept_\n",
    "plt.plot(dfXInt, dfYInt['paid.y'], 'o')\n",
    "plt.plot([dfXInt.min(), dfXInt.max()], [min_pt, max_pt])\n",
    "plt.xlabel(\"X\")\n",
    "plt.ylabel(\"Y\")"
   ]
  },
  {
   "cell_type": "markdown",
   "metadata": {},
   "source": [
    "### Polynomnial Regression"
   ]
  },
  {
   "cell_type": "code",
   "execution_count": 145,
   "metadata": {},
   "outputs": [
    {
     "data": {
      "image/png": "[encoded data removed]",
      "text/plain": [
       "<Figure size 432x288 with 1 Axes>"
      ]
     },
     "metadata": {},
     "output_type": "display_data"
    }
   ],
   "source": [
    "x = dfXInt['nursery'].values.reshape(-1,1)\n",
    "y = dfYInt['schoolsup.y'].values.reshape(-1,1)\n",
    "\n",
    "model = LinearRegression()\n",
    "pol_0 = PolynomialFeatures(degree=3)\n",
    "\n",
    "model.fit(pol_0.fit_transform(x), y)\n",
    "x1 = np.linspace(x.min(), x.max(), 10000).reshape(-1,1) \n",
    "plt.plot(x, y, 'o')\n",
    "plt.plot(x1, model.predict(pol_0.fit_transform(x1))) \n",
    "plt.show()"
   ]
  },
  {
   "cell_type": "markdown",
   "metadata": {},
   "source": [
    "### Review\n",
    "##### So there are a few problems with my regression, There are a lot of yes and no answers. Which can be bios in my final regression. It does give me a high percentage regression on all the Y  predictions accept famsup where we have a 0.59, It still is enough to be confident in making a final thoughts.\n"
   ]
  },
  {
   "cell_type": "markdown",
   "metadata": {},
   "source": [
    "### Question 3: Classification"
   ]
  },
  {
   "cell_type": "markdown",
   "metadata": {},
   "source": [
    "Though we know that the dependent variable is continuous, this does not by any means mean that we can't perform a classification analysis. Encode the dependent variables into several categories you find logical (report which ones and why), and perform a classification analysis on this encoded variable. (Once again, don't be too fast to omit the interaction & quadratic terms). Be complete!"
   ]
  },
  {
   "cell_type": "markdown",
   "metadata": {},
   "source": [
    "### Logistic Regression"
   ]
  },
  {
   "cell_type": "code",
   "execution_count": 128,
   "metadata": {},
   "outputs": [
    {
     "name": "stdout",
     "output_type": "stream",
     "text": [
      "Famsup:  0.59375\n",
      "Paid:  0.9479166666666666\n",
      "Schoolsup:  0.8333333333333334\n"
     ]
    }
   ],
   "source": [
    "#Famsup\n",
    "logreg = LogisticRegression(multi_class='auto', max_iter=100000,solver='lbfgs') \n",
    "logreg.fit(X_train,y_train)\n",
    "score = logreg.score(X_test,y_test)\n",
    "print(\"Famsup: \",score)\n",
    "scaler = StandardScaler()\n",
    "\n",
    "# paid\n",
    "logreg1 = LogisticRegression(multi_class='auto', max_iter=100000,solver='lbfgs') \n",
    "logreg1.fit(X_train1,y_train1)\n",
    "score1 = logreg1.score(X_test1,y_test1)\n",
    "print(\"Paid: \",score1)\n",
    "scaler1 = StandardScaler()\n",
    "\n",
    "# schoolsup\n",
    "logreg2 = LogisticRegression(multi_class='auto', max_iter=100000,solver='lbfgs') \n",
    "logreg2.fit(X_train2,y_train2)\n",
    "score2 = logreg2.score(X_test2,y_test2)\n",
    "print(\"Schoolsup: \",score2)\n",
    "scaler2 = StandardScaler()"
   ]
  },
  {
   "cell_type": "markdown",
   "metadata": {},
   "source": [
    "### Heat map & precision & Metrics"
   ]
  },
  {
   "cell_type": "code",
   "execution_count": 178,
   "metadata": {},
   "outputs": [
    {
     "name": "stdout",
     "output_type": "stream",
     "text": [
      "Famsup:\n",
      "              precision    recall  f1-score   support\n",
      "\n",
      "          no       1.00      0.03      0.05        40\n",
      "         yes       0.59      1.00      0.74        56\n",
      "\n",
      "    accuracy                           0.59        96\n",
      "   macro avg       0.79      0.51      0.40        96\n",
      "weighted avg       0.76      0.59      0.45        96\n",
      "\n",
      "Metrics\n",
      "[[ 1 39]\n",
      " [ 0 56]]\n"
     ]
    },
    {
     "data": {
      "image/png": "[encoded data removed]",
      "text/plain": [
       "<Figure size 720x720 with 2 Axes>"
      ]
     },
     "metadata": {},
     "output_type": "display_data"
    }
   ],
   "source": [
    "print(\"Famsup:\")\n",
    "predictionsL = logreg.predict(X_test)\n",
    "cm = metrics.confusion_matrix(y_test, predictionsL)\n",
    "print(classification_report(y_test, predictionsL))\n",
    "print(\"Metrics\")\n",
    "print(cm)\n",
    "\n",
    "plt.figure(figsize=(10,10))\n",
    "sns.heatmap(cm, annot=True, fmt=\".3f\", linewidths=.5, square = True, cmap = 'Blues_r');\n",
    "plt.ylabel('Actual label');\n",
    "plt.xlabel('Predicted label');\n",
    "all_sample_title = 'Accuracy Score: {0}'.format(score)\n",
    "plt.title(all_sample_title, size = 15);\n"
   ]
  },
  {
   "cell_type": "markdown",
   "metadata": {},
   "source": [
    "#### Matrix 2"
   ]
  },
  {
   "cell_type": "code",
   "execution_count": 179,
   "metadata": {},
   "outputs": [
    {
     "name": "stdout",
     "output_type": "stream",
     "text": [
      "Paid:\n",
      "              precision    recall  f1-score   support\n",
      "\n",
      "          no       0.95      1.00      0.97        91\n",
      "         yes       0.00      0.00      0.00         5\n",
      "\n",
      "    accuracy                           0.95        96\n",
      "   macro avg       0.47      0.50      0.49        96\n",
      "weighted avg       0.90      0.95      0.92        96\n",
      "\n",
      "Metrics 2\n",
      "[[91  0]\n",
      " [ 5  0]]\n"
     ]
    },
    {
     "name": "stderr",
     "output_type": "stream",
     "text": [
      "c:\\users\\kevin\\appdata\\local\\programs\\python\\python37-32\\lib\\site-packages\\sklearn\\metrics\\_classification.py:1221: UndefinedMetricWarning:\n",
      "\n",
      "Precision and F-score are ill-defined and being set to 0.0 in labels with no predicted samples. Use `zero_division` parameter to control this behavior.\n",
      "\n"
     ]
    },
    {
     "data": {
      "image/png": "[encoded data removed]",
      "text/plain": [
       "<Figure size 720x720 with 2 Axes>"
      ]
     },
     "metadata": {},
     "output_type": "display_data"
    }
   ],
   "source": [
    "print(\"Paid:\")\n",
    "predictionsL1 = logreg1.predict(X_test1)\n",
    "cm1 = metrics.confusion_matrix(y_test1, predictionsL1)\n",
    "print(classification_report(y_test1, predictionsL1))\n",
    "print(\"Metrics 2\")\n",
    "print(cm1)\n",
    "\n",
    "plt.figure(figsize=(10,10))\n",
    "sns.heatmap(cm1, annot=True, fmt=\".3f\", linewidths=.5, square = True, cmap = 'Blues_r');\n",
    "plt.ylabel('Actual label');\n",
    "plt.xlabel('Predicted label');\n",
    "all_sample_title = 'Accuracy Score: {0}'.format(score1)\n",
    "plt.title(all_sample_title, size = 15);\n"
   ]
  },
  {
   "cell_type": "markdown",
   "metadata": {},
   "source": [
    "#### Matrix 3"
   ]
  },
  {
   "cell_type": "code",
   "execution_count": 180,
   "metadata": {},
   "outputs": [
    {
     "name": "stdout",
     "output_type": "stream",
     "text": [
      "Schoolsup:\n",
      "              precision    recall  f1-score   support\n",
      "\n",
      "          no       0.83      1.00      0.91        80\n",
      "         yes       0.00      0.00      0.00        16\n",
      "\n",
      "    accuracy                           0.83        96\n",
      "   macro avg       0.42      0.50      0.45        96\n",
      "weighted avg       0.69      0.83      0.76        96\n",
      "\n",
      "Metrics 3\n",
      "[[80  0]\n",
      " [16  0]]\n"
     ]
    },
    {
     "name": "stderr",
     "output_type": "stream",
     "text": [
      "c:\\users\\kevin\\appdata\\local\\programs\\python\\python37-32\\lib\\site-packages\\sklearn\\metrics\\_classification.py:1221: UndefinedMetricWarning:\n",
      "\n",
      "Precision and F-score are ill-defined and being set to 0.0 in labels with no predicted samples. Use `zero_division` parameter to control this behavior.\n",
      "\n"
     ]
    },
    {
     "data": {
      "image/png": "[encoded data removed]",
      "text/plain": [
       "<Figure size 720x720 with 2 Axes>"
      ]
     },
     "metadata": {},
     "output_type": "display_data"
    }
   ],
   "source": [
    "print(\"Schoolsup:\")\n",
    "predictionsL2 = logreg2.predict(X_test2)\n",
    "cm2 = metrics.confusion_matrix(y_test2, predictionsL2)\n",
    "print(classification_report(y_test2, predictionsL2))\n",
    "print(\"Metrics 3\")\n",
    "print(cm2)\n",
    "\n",
    "\n",
    "plt.figure(figsize=(10,10))\n",
    "sns.heatmap(cm2, annot=True, fmt=\".3f\", linewidths=.5, square = True, cmap = 'Blues_r');\n",
    "plt.ylabel('Actual label');\n",
    "plt.xlabel('Predicted label');\n",
    "all_sample_title = 'Accuracy Score: {0}'.format(score2)\n",
    "plt.title(all_sample_title, size = 15);\n"
   ]
  },
  {
   "cell_type": "markdown",
   "metadata": {},
   "source": [
    "### making kmeans/ clusters"
   ]
  },
  {
   "cell_type": "code",
   "execution_count": 105,
   "metadata": {},
   "outputs": [
    {
     "data": {
      "text/plain": [
       "(10, 3)"
      ]
     },
     "execution_count": 105,
     "metadata": {},
     "output_type": "execute_result"
    }
   ],
   "source": [
    "kmeans = KMeans(n_clusters=10, random_state=0)\n",
    "clusters = kmeans.fit_predict(dfXInt)\n",
    "kmeans.cluster_centers_.shape"
   ]
  },
  {
   "cell_type": "markdown",
   "metadata": {},
   "source": [
    "### Predictions"
   ]
  },
  {
   "cell_type": "code",
   "execution_count": 30,
   "metadata": {},
   "outputs": [
    {
     "name": "stdout",
     "output_type": "stream",
     "text": [
      "paid:  0.9319371727748691\n",
      "Famsup:  0.3743455497382199\n",
      "SchoolSup:  0.8691099476439791\n"
     ]
    }
   ],
   "source": [
    "labels = np.zeros_like(clusters)\n",
    "labels2 = np.zeros_like(clusters)\n",
    "labels3 = np.zeros_like(clusters)\n",
    "for i in range(10):\n",
    "    mask = (clusters == i)\n",
    "    labels[mask] = mode(dfYInt['paid.y'])[0]\n",
    "    \n",
    "labels = np.zeros_like(clusters)\n",
    "for i in range(10):\n",
    "    mask = (clusters == i)\n",
    "    labels2[mask] = mode(dfYInt['famsup.y'])[0]\n",
    "    \n",
    "labels = np.zeros_like(clusters)\n",
    "for i in range(10):\n",
    "    mask = (clusters == i)\n",
    "    labels3[mask] = mode(dfYInt['schoolsup.y'])[0]\n",
    "\n",
    "print(\"paid: \", accuracy_score(dfYInt['paid.y'], labels))\n",
    "print(\"Famsup: \",accuracy_score(dfYInt['famsup.y'], labels))\n",
    "print(\"SchoolSup: \",accuracy_score(dfYInt['schoolsup.y'], labels))\n"
   ]
  },
  {
   "cell_type": "markdown",
   "metadata": {},
   "source": [
    "### Heat map"
   ]
  },
  {
   "cell_type": "markdown",
   "metadata": {},
   "source": [
    "#### matrix 1"
   ]
  },
  {
   "cell_type": "code",
   "execution_count": 34,
   "metadata": {},
   "outputs": [
    {
     "data": {
      "image/png": "[encoded data removed]",
      "text/plain": [
       "<Figure size 432x288 with 1 Axes>"
      ]
     },
     "metadata": {},
     "output_type": "display_data"
    }
   ],
   "source": [
    "mat = metrics.confusion_matrix(dfYInt['paid.y'], labels)\n",
    "sns.heatmap(mat.T, square=True, annot=True, fmt='d', cbar=False,cmap=\"Blues\")\n",
    "plt.xlabel('true label')\n",
    "plt.ylabel('predicted label');\n",
    "all_sample_title = 'Accuracy Score: {0}'.format(score)\n",
    "plt.title(all_sample_title, size = 15);"
   ]
  },
  {
   "cell_type": "markdown",
   "metadata": {},
   "source": [
    "#### Matrix 2"
   ]
  },
  {
   "cell_type": "code",
   "execution_count": 35,
   "metadata": {},
   "outputs": [
    {
     "data": {
      "image/png": "[encoded data removed]",
      "text/plain": [
       "<Figure size 432x288 with 1 Axes>"
      ]
     },
     "metadata": {},
     "output_type": "display_data"
    }
   ],
   "source": [
    "mat2 = metrics.confusion_matrix(dfYInt['famsup.y'], labels)\n",
    "sns.heatmap(mat2.T, square=True, annot=True, fmt='d', cbar=False,cmap=\"Blues\")\n",
    "plt.xlabel('true label')\n",
    "plt.ylabel('predicted label');"
   ]
  },
  {
   "cell_type": "markdown",
   "metadata": {},
   "source": [
    "#### Matrix 3"
   ]
  },
  {
   "cell_type": "code",
   "execution_count": 36,
   "metadata": {},
   "outputs": [
    {
     "data": {
      "image/png": "[encoded data removed]",
      "text/plain": [
       "<Figure size 432x288 with 1 Axes>"
      ]
     },
     "metadata": {},
     "output_type": "display_data"
    }
   ],
   "source": [
    "mat3 = metrics.confusion_matrix(dfYInt['schoolsup.y'], labels)\n",
    "sns.heatmap(mat3.T, square=True, annot=True, fmt='d', cbar=False,cmap=\"Blues\")\n",
    "plt.xlabel('true label')\n",
    "plt.ylabel('predicted label');"
   ]
  },
  {
   "cell_type": "markdown",
   "metadata": {},
   "source": [
    "### Decision Tree"
   ]
  },
  {
   "cell_type": "markdown",
   "metadata": {},
   "source": [
    "#### famsup"
   ]
  },
  {
   "cell_type": "code",
   "execution_count": 197,
   "metadata": {},
   "outputs": [
    {
     "name": "stdout",
     "output_type": "stream",
     "text": [
      "score  0.5729166666666666\n",
      "              precision    recall  f1-score   support\n",
      "\n",
      "          no       0.44      0.10      0.16        40\n",
      "         yes       0.59      0.91      0.71        56\n",
      "\n",
      "    accuracy                           0.57        96\n",
      "   macro avg       0.52      0.51      0.44        96\n",
      "weighted avg       0.53      0.57      0.48        96\n",
      "\n"
     ]
    }
   ],
   "source": [
    "tree = DecisionTreeClassifier()\n",
    "tree_fit = tree.fit(X_train, y_train)\n",
    "#Predictions\n",
    "predictions = tree.predict(X_test)\n",
    "#print(predictions) # only one with yes and no's\n",
    "\n",
    "score = tree_fit.score(X_test, y_test)\n",
    "print('score ',score)\n",
    "\n",
    "print(classification_report(y_test, predictions))"
   ]
  },
  {
   "cell_type": "markdown",
   "metadata": {},
   "source": [
    "#### Confusion matrix"
   ]
  },
  {
   "cell_type": "code",
   "execution_count": 198,
   "metadata": {},
   "outputs": [
    {
     "name": "stdout",
     "output_type": "stream",
     "text": [
      "[[ 3 -3]\n",
      " [ 5 -5]]\n"
     ]
    },
    {
     "data": {
      "image/png": "[encoded data removed]",
      "text/plain": [
       "<Figure size 720x720 with 2 Axes>"
      ]
     },
     "metadata": {},
     "output_type": "display_data"
    }
   ],
   "source": [
    "cm = metrics.confusion_matrix(y_test, predictions)\n",
    "#print(cm)\n",
    "cm2 = metrics.confusion_matrix(y_test, predictionsL)\n",
    "print(cm - cm2)\n",
    "\n",
    "plt.figure(figsize=(10,10))\n",
    "sns.heatmap(cm, annot=True, fmt=\".3f\", linewidths=.5, square = True, cmap = 'Blues_r');\n",
    "plt.ylabel('Actual label');\n",
    "plt.xlabel('Predicted label');\n",
    "all_sample_title = 'Accuracy Score: {0}'.format(score)\n",
    "plt.title(all_sample_title, size = 15);"
   ]
  },
  {
   "cell_type": "markdown",
   "metadata": {},
   "source": [
    "#### paid"
   ]
  },
  {
   "cell_type": "code",
   "execution_count": 199,
   "metadata": {},
   "outputs": [
    {
     "name": "stdout",
     "output_type": "stream",
     "text": [
      "score  0.9479166666666666\n",
      "              precision    recall  f1-score   support\n",
      "\n",
      "          no       0.42      1.00      0.59        40\n",
      "         yes       0.00      0.00      0.00        56\n",
      "\n",
      "    accuracy                           0.42        96\n",
      "   macro avg       0.21      0.50      0.29        96\n",
      "weighted avg       0.17      0.42      0.25        96\n",
      "\n"
     ]
    },
    {
     "name": "stderr",
     "output_type": "stream",
     "text": [
      "c:\\users\\kevin\\appdata\\local\\programs\\python\\python37-32\\lib\\site-packages\\sklearn\\metrics\\_classification.py:1221: UndefinedMetricWarning:\n",
      "\n",
      "Precision and F-score are ill-defined and being set to 0.0 in labels with no predicted samples. Use `zero_division` parameter to control this behavior.\n",
      "\n"
     ]
    }
   ],
   "source": [
    "tree = DecisionTreeClassifier()\n",
    "tree_fit = tree.fit(X_train1, y_train1)\n",
    "#Predictions\n",
    "predictions = tree.predict(X_test1)\n",
    "#print(predictions)\n",
    "\n",
    "score = tree_fit.score(X_test1, y_test1)\n",
    "print('score ',score)\n",
    "\n",
    "print(classification_report(y_test, predictions))"
   ]
  },
  {
   "cell_type": "markdown",
   "metadata": {},
   "source": [
    "#### Confusion matrix"
   ]
  },
  {
   "cell_type": "code",
   "execution_count": 200,
   "metadata": {},
   "outputs": [
    {
     "name": "stdout",
     "output_type": "stream",
     "text": [
      "[[0 0]\n",
      " [0 0]]\n"
     ]
    },
    {
     "data": {
      "image/png": "[encoded data removed]",
      "text/plain": [
       "<Figure size 720x720 with 2 Axes>"
      ]
     },
     "metadata": {},
     "output_type": "display_data"
    }
   ],
   "source": [
    "cm = metrics.confusion_matrix(y_test, predictions1)\n",
    "#print(cm)\n",
    "cm2 = metrics.confusion_matrix(y_test, predictionsL1)\n",
    "print(cm - cm2)\n",
    "\n",
    "\n",
    "plt.figure(figsize=(10,10))\n",
    "sns.heatmap(cm, annot=True, fmt=\".3f\", linewidths=.5, square = True, cmap = 'Blues_r');\n",
    "plt.ylabel('Actual label');\n",
    "plt.xlabel('Predicted label');\n",
    "all_sample_title = 'Accuracy Score: {0}'.format(score)\n",
    "plt.title(all_sample_title, size = 15);"
   ]
  },
  {
   "cell_type": "markdown",
   "metadata": {},
   "source": [
    "#### Schoolsup"
   ]
  },
  {
   "cell_type": "code",
   "execution_count": 204,
   "metadata": {},
   "outputs": [
    {
     "name": "stdout",
     "output_type": "stream",
     "text": [
      "score  0.8333333333333334\n",
      "              precision    recall  f1-score   support\n",
      "\n",
      "          no       0.42      1.00      0.59        40\n",
      "         yes       0.00      0.00      0.00        56\n",
      "\n",
      "    accuracy                           0.42        96\n",
      "   macro avg       0.21      0.50      0.29        96\n",
      "weighted avg       0.17      0.42      0.25        96\n",
      "\n"
     ]
    },
    {
     "name": "stderr",
     "output_type": "stream",
     "text": [
      "c:\\users\\kevin\\appdata\\local\\programs\\python\\python37-32\\lib\\site-packages\\sklearn\\metrics\\_classification.py:1221: UndefinedMetricWarning:\n",
      "\n",
      "Precision and F-score are ill-defined and being set to 0.0 in labels with no predicted samples. Use `zero_division` parameter to control this behavior.\n",
      "\n"
     ]
    }
   ],
   "source": [
    "tree = DecisionTreeClassifier()\n",
    "tree_fit = tree.fit(X_train2, y_train2)\n",
    "#Predictions\n",
    "predictions = tree.predict(X_test2)\n",
    "#print(predictions)\n",
    "\n",
    "score = tree_fit.score(X_test2, y_test2)\n",
    "print('score ',score)\n",
    "\n",
    "print(classification_report(y_test, predictions))"
   ]
  },
  {
   "cell_type": "markdown",
   "metadata": {},
   "source": [
    "#### Confusion matrix"
   ]
  },
  {
   "cell_type": "code",
   "execution_count": 205,
   "metadata": {},
   "outputs": [
    {
     "name": "stdout",
     "output_type": "stream",
     "text": [
      "[[0 0]\n",
      " [0 0]]\n"
     ]
    },
    {
     "data": {
      "image/png": "[encoded data removed]",
      "text/plain": [
       "<Figure size 720x720 with 2 Axes>"
      ]
     },
     "metadata": {},
     "output_type": "display_data"
    }
   ],
   "source": [
    "cm = metrics.confusion_matrix(y_test, predictions2)\n",
    "#print(cm)\n",
    "cm2 = metrics.confusion_matrix(y_test, predictionsL2)\n",
    "print(cm - cm2)\n",
    "\n",
    "plt.figure(figsize=(10,10))\n",
    "sns.heatmap(cm, annot=True, fmt=\".3f\", linewidths=.5, square = True, cmap = 'Blues_r');\n",
    "plt.ylabel('Actual label');\n",
    "plt.xlabel('Predicted label');\n",
    "all_sample_title = 'Accuracy Score: {0}'.format(score)\n",
    "plt.title(all_sample_title, size = 15);"
   ]
  },
  {
   "cell_type": "markdown",
   "metadata": {},
   "source": [
    "### Review\n",
    "##### Here we can see 3 different outcomes. We have  93% certainty, 87% and a 37%. We can obvious preditct the paid.y and the schoolsup.y with convident. Hower Famsup is dangling down with a 37% chance of predictions. That's not very high if you compare it to the others.   If we take a look back at the regression we can see that Famsup was also the lowest prediction out of the 3. But stlil higher then 37%"
   ]
  },
  {
   "cell_type": "code",
   "execution_count": 192,
   "metadata": {},
   "outputs": [],
   "source": [
    "# go go go go go!"
   ]
  },
  {
   "cell_type": "markdown",
   "metadata": {},
   "source": [
    "### Question 4: Clustering"
   ]
  },
  {
   "cell_type": "markdown",
   "metadata": {},
   "source": [
    "Now we have analysed the dataset in a supervised manner, let's try and investigate whether this supervised dimension indeed offers additional information. Perform a cluster analysis on the dependent variables, and compare your predictive power with the models you have made in Question 2 and 3. Be complete!"
   ]
  },
  {
   "cell_type": "markdown",
   "metadata": {},
   "source": [
    "### Dendrogram clusters"
   ]
  },
  {
   "cell_type": "code",
   "execution_count": 62,
   "metadata": {},
   "outputs": [
    {
     "data": {
      "text/plain": [
       "array([0, 2, 2, 2, 0, 2, 0, 2, 0, 2, 0, 0, 0, 0, 0, 1, 0, 2, 0, 0, 2, 0,\n",
       "       0, 1, 0, 2, 1, 2, 0, 0, 1, 1, 2, 0, 2, 0, 0, 2, 0, 2, 0, 1, 2, 0,\n",
       "       0, 1, 0, 2, 1, 0, 1, 2, 0, 1, 1, 1, 0, 2, 1, 2, 2, 0, 0, 0, 2, 2,\n",
       "       0, 1, 0, 0, 0, 2, 2, 1, 0, 0, 1, 0, 0, 0, 1, 2, 0, 2, 0, 0, 0, 2,\n",
       "       0, 0, 0, 0, 0, 1, 0, 0, 0, 0, 0, 0, 0, 0, 1, 0, 0, 0, 2, 0, 0, 1,\n",
       "       0, 0, 0, 0, 0, 0, 0, 0, 0, 0, 1, 0, 1, 0, 1, 0, 0, 0, 1, 2, 0, 0,\n",
       "       0, 0, 1, 0, 2, 1, 1, 1, 0, 0, 1, 1, 0, 0, 1, 1, 1, 0, 2, 2, 1, 0,\n",
       "       0, 0, 0, 0, 0, 1, 1, 0, 0, 0, 2, 0, 0, 0, 1, 0, 0, 0, 0, 0, 0, 1,\n",
       "       0, 0, 0, 0, 0, 0, 0, 0, 2, 0, 2, 2, 0, 1, 2, 1, 1, 1, 0, 0, 0, 1,\n",
       "       2, 0, 0, 0, 0, 0, 0, 0, 1, 0, 1, 1, 2, 0, 0, 1, 1, 0, 0, 0, 0, 1,\n",
       "       1, 0, 0, 0, 1, 0, 1, 0, 0, 1, 1, 1, 1, 1, 0, 1, 0, 2, 0, 1, 0, 1,\n",
       "       0, 1, 0, 1, 0, 0, 0, 0, 0, 2, 0, 0, 0, 0, 0, 0, 0, 0, 0, 1, 1, 1,\n",
       "       1, 0, 0, 1, 1, 0, 1, 0, 1, 0, 1, 0, 0, 1, 0, 1, 1, 0, 1, 1, 2, 0,\n",
       "       2, 0, 1, 1, 0, 0, 1, 1, 0, 0, 1, 2, 1, 1, 0, 1, 0, 1, 1, 1, 0, 0,\n",
       "       1, 1, 0, 0, 0, 1, 1, 1, 0, 1, 0, 1, 0, 0, 0, 0, 1, 0, 1, 0, 1, 0,\n",
       "       1, 2, 0, 0, 1, 1, 0, 1, 0, 0, 1, 1, 0, 1, 1, 0, 0, 1, 1, 0, 1, 1,\n",
       "       0, 0, 1, 1, 1, 1, 0, 1, 0, 0, 1, 0, 1, 0, 1, 0, 1, 0, 1, 0, 0, 0,\n",
       "       1, 1, 1, 1, 1, 0, 1, 1], dtype=int32)"
      ]
     },
     "execution_count": 62,
     "metadata": {},
     "output_type": "execute_result"
    },
    {
     "data": {
      "image/png": "[encoded data removed]",
      "text/plain": [
       "<Figure size 720x504 with 1 Axes>"
      ]
     },
     "metadata": {},
     "output_type": "display_data"
    }
   ],
   "source": [
    "plt.figure(figsize=(10,7))\n",
    "plt.title(\"Clusters dfYInt\")\n",
    "dend = shc.dendrogram(shc.linkage(dfYInt, method='ward'))\n",
    "\n",
    "cluster = AgglomerativeClustering(n_clusters=3, affinity='euclidean', linkage='ward')\n",
    "cluster.fit_predict(dfYInt)\n"
   ]
  },
  {
   "cell_type": "markdown",
   "metadata": {},
   "source": [
    "### Elbow K nearest neighbour"
   ]
  },
  {
   "cell_type": "code",
   "execution_count": 102,
   "metadata": {},
   "outputs": [
    {
     "name": "stdout",
     "output_type": "stream",
     "text": [
      "Famsup:  0.5\n",
      "paid:  0.9479166666666666\n",
      "schoolsup:  0.8333333333333334\n"
     ]
    },
    {
     "data": {
      "image/png": "[encoded data removed]",
      "text/plain": [
       "<Figure size 1152x576 with 1 Axes>"
      ]
     },
     "metadata": {},
     "output_type": "display_data"
    }
   ],
   "source": [
    "distortions = []\n",
    "K = range(1,9)\n",
    "for k in K:\n",
    "    kmeanModel = KMeans(n_clusters=k)\n",
    "    kmeanModel.fit(dfYInt)\n",
    "    distortions.append(kmeanModel.inertia_)\n",
    "    \n",
    "    \n",
    "plt.figure(figsize=(16,8))\n",
    "plt.plot(K, distortions, 'bx-')\n",
    "plt.xlabel('k')\n",
    "plt.ylabel('Distortion')\n",
    "plt.title('The Elbow Method showing the optimal k')\n",
    "plt.show()"
   ]
  },
  {
   "cell_type": "markdown",
   "metadata": {},
   "source": [
    "### Predictions"
   ]
  },
  {
   "cell_type": "code",
   "execution_count": 103,
   "metadata": {},
   "outputs": [
    {
     "name": "stdout",
     "output_type": "stream",
     "text": [
      "Famsup:  0.5\n",
      "paid:  0.9479166666666666\n",
      "schoolsup:  0.8333333333333334\n"
     ]
    }
   ],
   "source": [
    "#X_train, X_test, y_train, y_test\n",
    "neigh = KNeighborsClassifier(n_neighbors=4)# 9\n",
    "neigh.fit(X_train, y_train)\n",
    "neigh.predict(X_test[0:10])\n",
    "predictions = neigh.predict(X_test)\n",
    "score = neigh.score(X_test,y_test)\n",
    "print(\"Famsup: \",score)\n",
    "\n",
    "#X_train, X_test, y_train, y_test\n",
    "neigh = KNeighborsClassifier(n_neighbors=4)# 9\n",
    "neigh.fit(X_train1, y_train1)\n",
    "neigh.predict(X_test1[0:10])\n",
    "predictions = neigh.predict(X_test1)\n",
    "score = neigh.score(X_test1,y_test1)\n",
    "print(\"paid: \",score)\n",
    "\n",
    "#X_train, X_test, y_train, y_test\n",
    "neigh = KNeighborsClassifier(n_neighbors=4)# 9\n",
    "neigh.fit(X_train2, y_train2)\n",
    "neigh.predict(X_test2[0:10])\n",
    "predictions = neigh.predict(X_test2)\n",
    "score = neigh.score(X_test2,y_test2)\n",
    "print(\"schoolsup: \",score)"
   ]
  },
  {
   "cell_type": "markdown",
   "metadata": {},
   "source": [
    "### Review\n",
    "##### Again we see here that Famsup is lower than the rest and paid is the highest out of all three. The prediction is 50% for Famsup and paid rocks a 94%. We can also see the kink in the elbow methode at x2. so that's also a good sign."
   ]
  },
  {
   "cell_type": "code",
   "execution_count": null,
   "metadata": {},
   "outputs": [],
   "source": [
    "# in the home stretch!"
   ]
  },
  {
   "cell_type": "markdown",
   "metadata": {},
   "source": [
    "### Question 5: Conclusion"
   ]
  },
  {
   "cell_type": "markdown",
   "metadata": {},
   "source": [
    "As always: report, conclude, illustrate."
   ]
  },
  {
   "cell_type": "markdown",
   "metadata": {},
   "source": [
    "##### I think it's safe to say that Paid is the most interesting to watch. We have mostly 90% certainty with almost all the tests. Famsup is somewhat not trusty always around 50% we try to aim at a minimum of 60-70 so that we are almost always correct. I also discoverd that most answers are No(0) this has made an impact on our study for sure."
   ]
  },
  {
   "cell_type": "code",
   "execution_count": null,
   "metadata": {},
   "outputs": [],
   "source": [
    "# now onto the next exam! ;-)"
   ]
  }
 ],
 "metadata": {
  "celltoolbar": "Attachments",
  "kernelspec": {
   "display_name": "Python 3",
   "language": "python",
   "name": "python3"
  },
  "language_info": {
   "codemirror_mode": {
    "name": "ipython",
    "version": 3
   },
   "file_extension": ".py",
   "mimetype": "text/x-python",
   "name": "python",
   "nbconvert_exporter": "python",
   "pygments_lexer": "ipython3",
   "version": "3.7.4"
  }
 },
 "nbformat": 4,
 "nbformat_minor": 4
}
